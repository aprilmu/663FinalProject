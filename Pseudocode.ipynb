{
 "metadata": {
  "name": "",
  "signature": "sha256:bbe52d6f5b64b13237135df2c587c9863c1a138db389ddc885795910a9dc1119"
 },
 "nbformat": 3,
 "nbformat_minor": 0,
 "worksheets": [
  {
   "cells": [
    {
     "cell_type": "heading",
     "level": 1,
     "metadata": {},
     "source": [
      "Pseudocode/Outline of Algorithm"
     ]
    },
    {
     "cell_type": "heading",
     "level": 3,
     "metadata": {},
     "source": [
      "K-Means++(k) initialization"
     ]
    },
    {
     "cell_type": "markdown",
     "metadata": {},
     "source": [
      "1. C <- sample a point uniformly at random from X\n",
      "2. while |C| < k do\n",
      "3.    Sample x from X with probability d^2(x,C)/phi_x(C) \n",
      "4.    C <- union of C and {x}\n",
      "5. end while"
     ]
    },
    {
     "cell_type": "heading",
     "level": 3,
     "metadata": {},
     "source": [
      "K-Means||(k,l) initialization"
     ]
    },
    {
     "cell_type": "markdown",
     "metadata": {},
     "source": [
      "1. C <- sample a point uniformly at random from X\n",
      "2. phi <- phi_x(C)\n",
      "3. for O(log phi) times do\n",
      "4. C' <- sample each point x from X independently with probability p_x=l\\*d^2(x,C)/phi_x(C)\n",
      "5. C <- union of C and C'\n",
      "6. end for\n",
      "7. For x from C, set w_x to be the number of points in X closer to x than any other point in C\n",
      "8. Recluster the weighted points in C into k clusters"
     ]
    },
    {
     "cell_type": "code",
     "collapsed": false,
     "input": [],
     "language": "python",
     "metadata": {},
     "outputs": []
    }
   ],
   "metadata": {}
  }
 ]
}