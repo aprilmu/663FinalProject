{
 "metadata": {
  "name": "",
  "signature": "sha256:b59bdb668f8f4eee0ba3de67a909e36cfd58692047295fa39455bede736c421c"
 },
 "nbformat": 3,
 "nbformat_minor": 0,
 "worksheets": [
  {
   "cells": [
    {
     "cell_type": "code",
     "collapsed": false,
     "input": [
      "#Initialization algorithm\n",
      "def initialize(X, K):\n",
      "    C = [X[0]]\n",
      "    for k in range(1, K):\n",
      "        D = numpy.array([min([scipy.inner(c-x,c-x) for c in C]) for x in X])\n",
      "        probs = D/D.sum()\n",
      "        cumprobs = probs.cumsum()\n",
      "        r = scipy.rand()\n",
      "        for j,p in enumerate(cumprobs):\n",
      "            if r < p:\n",
      "                i = j\n",
      "                break\n",
      "        C.append(X[i])\n",
      "    return C"
     ],
     "language": "python",
     "metadata": {},
     "outputs": []
    },
    {
     "cell_type": "code",
     "collapsed": false,
     "input": [
      "def nearest_cluster_center(point, cc):\n",
      "    \n",
      "    def sqrd(a, b):\n",
      "        return (a.x - b.x)**2+(a.y-b.y)**2\n",
      " \n",
      "    min_index = point.group\n",
      "    min_dist = FLOAT_MAX\n",
      " \n",
      "    for i, c in enumerate(cc):\n",
      "        d = sqrd(c, point)\n",
      "        if min_dist > d:\n",
      "            min_dist = d\n",
      "            min_index = i\n",
      " \n",
      "    return (min_index, min_dist)\n",
      " \n",
      " \n",
      "def kmeanspp(points, cc):\n",
      "    cc[0] = copy(choice(points))\n",
      "    d = [0.0 for a in xrange(len(points))]\n",
      " \n",
      "    for i in xrange(1, len(cc)):\n",
      "        s = 0\n",
      "        for j, p in enumerate(points):\n",
      "            d[j] = nearest_cluster_center(p, cc[:i])[1]\n",
      "            s += d[j]\n",
      " \n",
      "        s *= random()\n",
      " \n",
      "        for j, di in enumerate(d):\n",
      "            s -= di\n",
      "            if s > 0:\n",
      "                continue\n",
      "            cc[i] = copy(points[j])\n",
      "            break\n",
      " \n",
      "    for p in points:\n",
      "        p.group = nearest_cluster_center(p, cc)[0]"
     ],
     "language": "python",
     "metadata": {},
     "outputs": []
    }
   ],
   "metadata": {}
  }
 ]
}