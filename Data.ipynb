{
 "metadata": {
  "name": "",
  "signature": "sha256:958435e40530dc00d62a6a22520136e2b41961fa0247f51beb5c8b688add92e6"
 },
 "nbformat": 3,
 "nbformat_minor": 0,
 "worksheets": [
  {
   "cells": [
    {
     "cell_type": "heading",
     "level": 1,
     "metadata": {},
     "source": [
      "Simulated Data Set"
     ]
    },
    {
     "cell_type": "code",
     "collapsed": false,
     "input": [
      "import os\n",
      "import sys\n",
      "import glob\n",
      "import matplotlib.pyplot as plt\n",
      "import numpy as np\n",
      "import pandas as pd"
     ],
     "language": "python",
     "metadata": {},
     "outputs": [],
     "prompt_number": 1
    },
    {
     "cell_type": "code",
     "collapsed": false,
     "input": [
      "#Simulate data\n",
      "def generate_data(n):\n",
      "    mean0 = [0, 1]\n",
      "    cov0 = [[1, 0.5], [0.5, 1]]\n",
      "    data0 = np.random.multivariate_normal(mean0, cov0, n)\n",
      "    data0 = np.hstack((data0, np.ones((data0.shape[0],1))))\n",
      "\n",
      "    mean1 = [6, 7]\n",
      "    cov1 = [[1, 0.5], [0.5, 1]]\n",
      "    data1 = np.random.multivariate_normal(mean1, cov1, n)\n",
      "    data1 = np.hstack((data1, np.ones((data1.shape[0],1)) * 2))\n",
      "\n",
      "    mean2 = [11, 12]\n",
      "    cov2 = [[1, 0.5], [0.5, 1]]\n",
      "    data2 = np.random.multivariate_normal(mean2, cov2, n)\n",
      "    data2 = np.hstack((data2, np.ones((data2.shape[0],1)) * 3))\n",
      "\n",
      "    data = np.vstack((data0, data1, data2))\n",
      "    np.random.shuffle(data)\n",
      "    print (data.shape)\n",
      "    return data\n",
      "\n",
      "generate_data(10)"
     ],
     "language": "python",
     "metadata": {},
     "outputs": [
      {
       "output_type": "stream",
       "stream": "stdout",
       "text": [
        "(30, 3)\n"
       ]
      },
      {
       "metadata": {},
       "output_type": "pyout",
       "prompt_number": 4,
       "text": [
        "array([[  6.01949663,   6.88185139,   2.        ],\n",
        "       [ -1.34118202,  -0.11414005,   1.        ],\n",
        "       [  0.53935383,  -1.22829502,   1.        ],\n",
        "       [  4.79278465,   6.60732874,   2.        ],\n",
        "       [ 11.06977118,  11.8844164 ,   3.        ],\n",
        "       [  6.84274807,   7.69195028,   2.        ],\n",
        "       [ 11.52274526,  10.87459296,   3.        ],\n",
        "       [ 11.88917895,  11.84762785,   3.        ],\n",
        "       [ 10.6627257 ,  12.00170143,   3.        ],\n",
        "       [  5.53384444,   7.11423101,   2.        ],\n",
        "       [  5.75927371,   5.91187597,   2.        ],\n",
        "       [  4.19587609,   7.30846173,   2.        ],\n",
        "       [  6.59883691,   6.495527  ,   2.        ],\n",
        "       [ 11.8265487 ,  11.98890234,   3.        ],\n",
        "       [  0.28185969,   2.34036246,   1.        ],\n",
        "       [ -1.93364719,  -0.04182757,   1.        ],\n",
        "       [ -0.24369126,   0.25779761,   1.        ],\n",
        "       [  5.92247425,   6.8788084 ,   2.        ],\n",
        "       [  6.36249196,   6.02118886,   2.        ],\n",
        "       [ -0.04523001,   0.85786541,   1.        ],\n",
        "       [ 10.18721108,  10.12631308,   3.        ],\n",
        "       [ 10.42114813,  11.79003755,   3.        ],\n",
        "       [  1.32275847,   1.66289686,   1.        ],\n",
        "       [ 11.32352566,  12.45889176,   3.        ],\n",
        "       [  0.12568977,   1.15295444,   1.        ],\n",
        "       [  1.78272343,   2.16320633,   1.        ],\n",
        "       [ 10.84521787,  11.71935115,   3.        ],\n",
        "       [ 10.23265915,  11.71944113,   3.        ],\n",
        "       [  6.22903295,   6.48889225,   2.        ],\n",
        "       [ -0.17027216,   1.35582955,   1.        ]])"
       ]
      }
     ],
     "prompt_number": 4
    },
    {
     "cell_type": "heading",
     "level": 1,
     "metadata": {},
     "source": [
      "Makefile draft"
     ]
    },
    {
     "cell_type": "code",
     "collapsed": false,
     "input": [
      "NOTEBOOKS=Final_Project.ipynb\n",
      "          \n",
      "\n",
      "LATEXFILES=$(NOTEBOOKS:.ipynb=.tex)\n",
      "\n",
      ".ipynb.tex:\n",
      "    ipy3-devel nbconvert --to latex $<\n",
      "\n",
      "#all: $(LATEXFILES) buildpdf\n",
      "all: latexfiles buildpdf\n",
      "\n",
      "latexfiles:\n",
      "    ipy3-devel nbconvert --to latex Final_Project.ipynb\n",
      "\n",
      "\n",
      "buildpdf: latexfiles\n",
      "    pdflatex Final_Project.tex"
     ],
     "language": "python",
     "metadata": {},
     "outputs": []
    }
   ],
   "metadata": {}
  }
 ]
}