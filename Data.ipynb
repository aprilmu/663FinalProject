{
 "metadata": {
  "name": "",
  "signature": "sha256:e28eca9f56d8d410a13f0533e06847417f3449aaa07375a1d27e0af687a43b44"
 },
 "nbformat": 3,
 "nbformat_minor": 0,
 "worksheets": [
  {
   "cells": [
    {
     "cell_type": "heading",
     "level": 1,
     "metadata": {},
     "source": [
      "Simulated Data Set"
     ]
    },
    {
     "cell_type": "code",
     "collapsed": false,
     "input": [
      "import os\n",
      "import sys\n",
      "import glob\n",
      "import matplotlib.pyplot as plt\n",
      "import numpy as np\n",
      "import pandas as pd"
     ],
     "language": "python",
     "metadata": {},
     "outputs": [],
     "prompt_number": 1
    },
    {
     "cell_type": "code",
     "collapsed": false,
     "input": [
      "#Simulate data\n",
      "def generate_data(n):\n",
      "    mean0 = [0, 1]\n",
      "    cov0 = [[1, 0.5], [0.5, 1]]\n",
      "    data0 = np.random.multivariate_normal(mean0, cov0, n)\n",
      "    data0 = np.hstack((data0, np.ones((data0.shape[0],1))))\n",
      "\n",
      "    mean1 = [6, 7]\n",
      "    cov1 = [[1, 0.5], [0.5, 1]]\n",
      "    data1 = np.random.multivariate_normal(mean1, cov1, n)\n",
      "    data1 = np.hstack((data1, np.ones((data1.shape[0],1)) * 2))\n",
      "\n",
      "    mean2 = [11, 12]\n",
      "    cov2 = [[1, 0.5], [0.5, 1]]\n",
      "    data2 = np.random.multivariate_normal(mean2, cov2, n)\n",
      "    data2 = np.hstack((data2, np.ones((data2.shape[0],1)) * 3))\n",
      "\n",
      "    data = np.vstack((data0, data1, data2))\n",
      "    np.random.shuffle(data)\n",
      "    print (data.shape)\n",
      "    return data\n",
      "\n",
      "generate_data(10)"
     ],
     "language": "python",
     "metadata": {},
     "outputs": [
      {
       "output_type": "stream",
       "stream": "stdout",
       "text": [
        "(30, 3)\n"
       ]
      },
      {
       "metadata": {},
       "output_type": "pyout",
       "prompt_number": 6,
       "text": [
        "array([[ 10.26489034,  11.14918107,   3.        ],\n",
        "       [ -1.91127313,  -0.63101403,   1.        ],\n",
        "       [  9.89047348,  11.36900987,   3.        ],\n",
        "       [  2.05017142,   0.68678318,   1.        ],\n",
        "       [  5.62732173,   5.5606695 ,   2.        ],\n",
        "       [  5.83006193,   4.40735432,   2.        ],\n",
        "       [  5.52662904,   7.40589072,   2.        ],\n",
        "       [ 10.98992063,  12.42772742,   3.        ],\n",
        "       [  5.72987527,   7.63065402,   2.        ],\n",
        "       [  0.70843351,  -0.25839601,   1.        ],\n",
        "       [  0.0403012 ,  -0.26933364,   1.        ],\n",
        "       [  9.89230862,  11.79333069,   3.        ],\n",
        "       [  5.01250489,   5.76214094,   2.        ],\n",
        "       [ 11.09456213,  12.63103191,   3.        ],\n",
        "       [  9.91540417,  11.88522578,   3.        ],\n",
        "       [  0.59699655,   0.90072623,   1.        ],\n",
        "       [  9.60370551,  11.60472234,   3.        ],\n",
        "       [ 12.61941526,  13.48324407,   3.        ],\n",
        "       [  7.5746551 ,   7.50029042,   2.        ],\n",
        "       [  0.83440888,   1.07334236,   1.        ],\n",
        "       [ 10.16966949,  11.45773712,   3.        ],\n",
        "       [  1.08293276,   0.85037187,   1.        ],\n",
        "       [  7.3700363 ,   8.74535443,   2.        ],\n",
        "       [  6.75084274,   6.64587965,   2.        ],\n",
        "       [  0.36201595,   0.60250768,   1.        ],\n",
        "       [  5.10643047,   7.07378474,   2.        ],\n",
        "       [ 10.32003591,  10.29645635,   3.        ],\n",
        "       [  5.99970277,   8.49910233,   2.        ],\n",
        "       [  2.09578336,   1.5366422 ,   1.        ],\n",
        "       [ -0.72341892,   0.9556704 ,   1.        ]])"
       ]
      }
     ],
     "prompt_number": 6
    },
    {
     "cell_type": "heading",
     "level": 1,
     "metadata": {},
     "source": [
      "Makefile draft"
     ]
    },
    {
     "cell_type": "code",
     "collapsed": false,
     "input": [
      "NOTEBOOKS=Final_Project.ipynb\n",
      "          \n",
      "\n",
      "LATEXFILES=$(NOTEBOOKS:.ipynb=.tex)\n",
      "\n",
      ".ipynb.tex:\n",
      "    ipy3-devel nbconvert --to latex $<\n",
      "\n",
      "#all: $(LATEXFILES) buildpdf\n",
      "all: latexfiles buildpdf\n",
      "\n",
      "latexfiles:\n",
      "    ipy3-devel nbconvert --to latex Final_Project.ipynb\n",
      "\n",
      "\n",
      "buildpdf: latexfiles\n",
      "    pdflatex Final_Project.tex"
     ],
     "language": "python",
     "metadata": {},
     "outputs": []
    }
   ],
   "metadata": {}
  }
 ]
}