{
 "metadata": {
  "name": "",
  "signature": "sha256:7dc353ec3497ceaf43dec18a7f8b39b61cef7d9ade2ce95dce91c9d605727f6a"
 },
 "nbformat": 3,
 "nbformat_minor": 0,
 "worksheets": [
  {
   "cells": [
    {
     "cell_type": "code",
     "collapsed": false,
     "input": [
      "from __future__ import division\n",
      "import os\n",
      "import sys\n",
      "import glob\n",
      "import matplotlib.pyplot as plt\n",
      "import numpy as np\n",
      "import pandas as pd\n",
      "import time\n",
      "%matplotlib inline\n",
      "%precision 4\n",
      "plt.style.use('ggplot')"
     ],
     "language": "python",
     "metadata": {},
     "outputs": [],
     "prompt_number": 165
    },
    {
     "cell_type": "heading",
     "level": 3,
     "metadata": {},
     "source": [
      "K-means Algorithm (Simple)"
     ]
    },
    {
     "cell_type": "code",
     "collapsed": false,
     "input": [
      "def initialization(data,k):\n",
      "    \"\"\"Return the initial set of cluster centers\"\"\"\n",
      "    #Generate k random indices between 0 and the number of rows in the dataset\n",
      "    centers_index = np.random.choice(range(data.shape[0]), k, replace=False)\n",
      "    return data[centers_index, :]\n",
      "\n",
      "def kmeans1(centers,data,k):\n",
      "    #Generate initial cluster centers\n",
      "    #centers = initialize(data,k)\n",
      "    print('Initial Centers:', centers)\n",
      "\n",
      "    converge = False\n",
      "    phi = []\n",
      "    iterations = 0\n",
      "    while (not converge) and (iterations < 1000):\n",
      "        #Find out which cluster each data point is the closest to\n",
      "        min_dist = np.zeros(data.shape[0])\n",
      "        min_index = np.zeros(data.shape[0])\n",
      "        for i,p in enumerate(data):\n",
      "            result = minimum_distance(p,centers)\n",
      "            min_dist[i] = result[0]\n",
      "            min_index[i] = result[1]\n",
      "        #Calculate phi\n",
      "        phi_val = np.sum(min_dist)\n",
      "        phi.append(phi_val)\n",
      "\n",
      "        #Calculate the new centers\n",
      "        new_centers = np.empty(centers.shape)\n",
      "        for i in range(0, k):\n",
      "            if data[min_index == i,:].shape[0] == 0:\n",
      "                new_centers[i] = centers[i]\n",
      "            else:\n",
      "                new_centers[i] = np.mean(data[min_index == i, :], axis=0)\n",
      "\n",
      "        #Compare old centers with new centers to see if the algorithm has converged\n",
      "        if compare_centers(centers, new_centers):\n",
      "            converge = True\n",
      "        else:\n",
      "            centers = new_centers\n",
      "\n",
      "        iterations += 1\n",
      "\n",
      "    print ('Required ', iterations, ' iterations to converge.')\n",
      "    return (iterations, phi, centers, min_index)\n",
      "\n",
      "\n",
      "def minimum_distance(p, centers):\n",
      "    \"\"\"Return the distance to the closest cluster center\"\"\"\n",
      "    min_index = 0\n",
      "    min_dist = sys.float_info.max\n",
      "    for i, cc in enumerate(centers):\n",
      "        d = np.sum((p - cc) ** 2)\n",
      "        if min_dist > d:\n",
      "            min_dist = d \n",
      "            min_index = i\n",
      "    return (min_dist,min_index)\n",
      "\n",
      "def compare_centers(centers, new_centers, tol=-1):\n",
      "    \"\"\"Check to see if the centers have converged\"\"\"\n",
      "    if tol == -1:\n",
      "        return np.array_equal(centers, new_centers)\n",
      "    else:\n",
      "        diff = np.sum((new_centers - centers)**2, axis=1)\n",
      "        if np.max(diff) <= tol:\n",
      "            return True\n",
      "        else:\n",
      "            return False"
     ],
     "language": "python",
     "metadata": {},
     "outputs": [],
     "prompt_number": 118
    },
    {
     "cell_type": "code",
     "collapsed": false,
     "input": [
      "kmeans1(initialization(data,3),data,3)"
     ],
     "language": "python",
     "metadata": {},
     "outputs": [
      {
       "output_type": "stream",
       "stream": "stdout",
       "text": [
        "('Initial Centers:', array([[ 11.0378,  11.8638],\n",
        "       [ 11.4467,  12.8302],\n",
        "       [  8.7928,  11.942 ]]))\n",
        "('Required ', 7, ' iterations to converge.')\n"
       ]
      },
      {
       "metadata": {},
       "output_type": "pyout",
       "prompt_number": 119,
       "text": [
        "(7,\n",
        " [2468.2853, 337.4871, 261.4961, 218.1403, 134.6420, 82.8214, 69.6058],\n",
        " array([[  5.5453,   6.8243],\n",
        "        [ 10.4789,  11.4843],\n",
        "        [ -0.032 ,   0.7432]]),\n",
        " array([ 1.,  2.,  0.,  2.,  1.,  2.,  0.,  1.,  1.,  0.,  1.,  1.,  2.,\n",
        "         2.,  2.,  1.,  2.,  0.,  0.,  0.,  2.,  0.,  0.,  2.,  1.,  0.,\n",
        "         1.,  0.,  1.,  2.]))"
       ]
      }
     ],
     "prompt_number": 119
    },
    {
     "cell_type": "heading",
     "level": 3,
     "metadata": {},
     "source": [
      "K-means Algorithm (Vectorized)"
     ]
    },
    {
     "cell_type": "code",
     "collapsed": false,
     "input": [
      "def kmeans2(centers,data,k):\n",
      "    #Generate initial cluster centers\n",
      "    print('Initial Centers:', centers)\n",
      "\n",
      "    converge = False\n",
      "    phi = []\n",
      "    iterations = 0\n",
      "    while (not converge) and (iterations < 1000):\n",
      "        #Find the Euclidean distance between a center and a data point\n",
      "        data2 = data[:, np.newaxis, :]\n",
      "        d2 = (data2 - centers) ** 2\n",
      "        #Calculate the total distance to each center for each data point.\n",
      "        distance = np.sum(d2, axis=2)\n",
      "\n",
      "        #Find out which cluster each data point belongs to.\n",
      "        min_index = np.zeros(distance.shape)\n",
      "        min_index[range(distance.shape[0]), np.argmin(distance, axis=1)] = 1\n",
      "\n",
      "        #Calculate phi \n",
      "        phi_val = np.sum(distance[min_index == 1])\n",
      "        phi.append(phi_val)\n",
      "\n",
      "        #Calculate the new centers\n",
      "        new_centers = np.empty(centers.shape)\n",
      "        for i in range(0, k):\n",
      "            if data[min_index[:, i] == 1,:].shape[0] == 0:\n",
      "                new_centers[i] = centers[i]\n",
      "            else:\n",
      "                new_centers[i] = np.mean(data[min_index[:, i] == True, :], axis=0)\n",
      "\n",
      "        #Compare old centers with new centers to see if the algorithm has converged\n",
      "        if compare_centers(centers, new_centers):\n",
      "            converge = True\n",
      "        else:\n",
      "            centers = new_centers\n",
      "\n",
      "        iterations += 1\n",
      "\n",
      "    print ('Required ', iterations, ' iterations to converge.')\n",
      "    return (iterations, phi, centers, min_index)\n",
      "\n",
      "def compare_centers(centers, new_centers, tol=-1):\n",
      "    if tol == -1:\n",
      "        return np.array_equal(centers, new_centers)\n",
      "    else:\n",
      "        diff = np.sum((new_centers - centers)**2, axis=1)\n",
      "        if np.max(diff) <= tol:\n",
      "            return True\n",
      "        else:\n",
      "            return False"
     ],
     "language": "python",
     "metadata": {},
     "outputs": [],
     "prompt_number": 120
    },
    {
     "cell_type": "code",
     "collapsed": false,
     "input": [
      "kmeans2(kmeanspp1(data,3),data,3)"
     ],
     "language": "python",
     "metadata": {},
     "outputs": [
      {
       "output_type": "stream",
       "stream": "stdout",
       "text": [
        "('Initial Centers:', array([[  0.826 ,   1.3241],\n",
        "       [ 10.4596,  10.5911],\n",
        "       [  5.5535,   6.3084]]))\n",
        "('Required ', 2, ' iterations to converge.')\n"
       ]
      },
      {
       "metadata": {},
       "output_type": "pyout",
       "prompt_number": 121,
       "text": [
        "(2, [90.9857, 69.6058], array([[ -0.032 ,   0.7432],\n",
        "        [ 10.4789,  11.4843],\n",
        "        [  5.5453,   6.8243]]), array([[ 0.,  1.,  0.],\n",
        "        [ 1.,  0.,  0.],\n",
        "        [ 0.,  0.,  1.],\n",
        "        [ 1.,  0.,  0.],\n",
        "        [ 0.,  1.,  0.],\n",
        "        [ 1.,  0.,  0.],\n",
        "        [ 0.,  0.,  1.],\n",
        "        [ 0.,  1.,  0.],\n",
        "        [ 0.,  1.,  0.],\n",
        "        [ 0.,  0.,  1.],\n",
        "        [ 0.,  1.,  0.],\n",
        "        [ 0.,  1.,  0.],\n",
        "        [ 1.,  0.,  0.],\n",
        "        [ 1.,  0.,  0.],\n",
        "        [ 1.,  0.,  0.],\n",
        "        [ 0.,  1.,  0.],\n",
        "        [ 1.,  0.,  0.],\n",
        "        [ 0.,  0.,  1.],\n",
        "        [ 0.,  0.,  1.],\n",
        "        [ 0.,  0.,  1.],\n",
        "        [ 1.,  0.,  0.],\n",
        "        [ 0.,  0.,  1.],\n",
        "        [ 0.,  0.,  1.],\n",
        "        [ 1.,  0.,  0.],\n",
        "        [ 0.,  1.,  0.],\n",
        "        [ 0.,  0.,  1.],\n",
        "        [ 0.,  1.,  0.],\n",
        "        [ 0.,  0.,  1.],\n",
        "        [ 0.,  1.,  0.],\n",
        "        [ 1.,  0.,  0.]]))"
       ]
      }
     ],
     "prompt_number": 121
    },
    {
     "cell_type": "heading",
     "level": 3,
     "metadata": {},
     "source": [
      "K-means++ Algorithm (Simple)"
     ]
    },
    {
     "cell_type": "code",
     "collapsed": false,
     "input": [
      "np.random.seed(123)\n",
      "def kmeanspp1(data, k):\n",
      "    \"\"\"Implement the K-means++ algorithm and return k initial cluster centers\"\"\"\n",
      "    #Sample a point uniformly ar random from the data\n",
      "    centers = data[np.random.choice(range(data.shape[0]),1), :]\n",
      "\n",
      "    #Iterate k-1 times through the dataset to select the initial cluster centers\n",
      "    while centers.shape[0] < k:\n",
      "        min_dist = np.zeros(data.shape[0])\n",
      "        for i,p in enumerate(data):\n",
      "            min_dist[i] = minimum_distance(p,centers)[0]\n",
      "        #Calculate cost of the data\n",
      "        phi = np.sum(min_dist)\n",
      "        #Calculate the probability distribution\n",
      "        prob = min_dist/phi\n",
      "        #Select the next centroid using the probability distribution calculated\n",
      "        centers = np.vstack([centers, data[np.random.choice(range(data.shape[0]),1, p = prob), :]])\n",
      "    return centers"
     ],
     "language": "python",
     "metadata": {},
     "outputs": [],
     "prompt_number": 172
    },
    {
     "cell_type": "code",
     "collapsed": false,
     "input": [
      "kmeanspp1(data,3)"
     ],
     "language": "python",
     "metadata": {},
     "outputs": [
      {
       "metadata": {},
       "output_type": "pyout",
       "prompt_number": 173,
       "text": [
        "array([[  4.2845,   6.0856],\n",
        "       [ 12.3306,  12.3869],\n",
        "       [  0.5434,   0.2795]])"
       ]
      }
     ],
     "prompt_number": 173
    },
    {
     "cell_type": "heading",
     "level": 3,
     "metadata": {},
     "source": [
      "K-means++ Algorithm (Vectorized)"
     ]
    },
    {
     "cell_type": "code",
     "collapsed": false,
     "input": [
      "def kmeanspp2(data, k):\n",
      "    \"\"\"Implement the K-means++ algorithm and return k initial cluster centers\"\"\"\n",
      "    #Sample a point uniformly ar random from the data\n",
      "    centers = data[np.random.choice(range(data.shape[0]),1), :]\n",
      "    data2 = data[:, np.newaxis, :]\n",
      "\n",
      "    #Iterate k-1 times through the dataset to select the initial cluster centers\n",
      "    while centers.shape[0] < k:\n",
      "        d2 = (data2 - centers) ** 2\n",
      "        distance = np.sum(d2, axis=2)\n",
      "        min_index = np.zeros(distance.shape)\n",
      "        min_index[range(distance.shape[0]), np.argmin(distance, axis=1)] = 1\n",
      "        min_dist=distance[min_index == 1]\n",
      "        phi = np.sum(min_dist)\n",
      "        #Calculate the probability distribution\n",
      "        prob = min_dist/phi\n",
      "        #Select the next centroid using the probability distribution calculated\n",
      "        centers = np.vstack([centers, data[np.random.choice(range(data.shape[0]),1, p = prob), :]])\n",
      "    return centers"
     ],
     "language": "python",
     "metadata": {},
     "outputs": [],
     "prompt_number": 174
    },
    {
     "cell_type": "code",
     "collapsed": false,
     "input": [
      "kmeanspp2(data,3)"
     ],
     "language": "python",
     "metadata": {},
     "outputs": [
      {
       "metadata": {},
       "output_type": "pyout",
       "prompt_number": 175,
       "text": [
        "array([[  9.7059,  11.7361],\n",
        "       [  1.9671,   3.6653],\n",
        "       [ -0.6613,  -0.592 ]])"
       ]
      }
     ],
     "prompt_number": 175
    },
    {
     "cell_type": "heading",
     "level": 3,
     "metadata": {},
     "source": [
      "Scalable K-means++ Algorithm"
     ]
    },
    {
     "cell_type": "code",
     "collapsed": false,
     "input": [
      "def scalablekmeanspp(data,k,l):\n",
      "    #Sample a point uniformly at random from the data\n",
      "    centers = data[np.random.choice(range(data.shape[0]),1), :]\n",
      "    data2 = data[:, np.newaxis, :]\n",
      "    min_dist = np.zeros(data.shape[0])\n",
      "    for i,p in enumerate(data):\n",
      "        min_dist[i] = minimum_distance(p,centers)[0]\n",
      "    phi = np.sum(min_dist)\n",
      "    \n",
      "    for i in range(int(round(np.log(phi)))):\n",
      "        d2 = (data2 - centers) ** 2\n",
      "        distance = np.sum(d2, axis=2)\n",
      "        min_index = np.zeros(distance.shape)\n",
      "        min_index[range(distance.shape[0]), np.argmin(distance, axis=1)] = 1\n",
      "        min_dist=distance[min_index == 1]\n",
      "        phi = np.sum(min_dist)\n",
      "        for j,p in enumerate(data):\n",
      "            prob = l*min_dist[j]/phi\n",
      "            u=np.random.uniform(0,1)\n",
      "            if prob >= u:\n",
      "                centers = np.vstack([centers, p])\n",
      "    #Now we have an initial set of cluster centers that is greater than k\n",
      "    #Find number of points in dataset closer to each center than any other centers\n",
      "    d2 = (data2 - centers) ** 2\n",
      "    distance = np.sum(d2, axis=2)\n",
      "    min_index = np.zeros(distance.shape)\n",
      "    min_index[range(distance.shape[0]), np.argmin(distance, axis=1)] = 1\n",
      "    weights = np.array([np.count_nonzero(min_index[:, j]) for j in range(centers.shape[0])]).reshape(-1,1)\n",
      "    #Recluster the weighted points into k clusters using kmeans++\n",
      "    new_centers = centers[np.random.choice(range(centers.shape[0]),1), :]\n",
      "    centers2 = centers\n",
      "    index = np.where(centers2==new_centers)[0]\n",
      "    centers2 = np.delete(centers2,index[0],axis=0)\n",
      "    weights = np.delete(weights,index[0])\n",
      "    while new_centers.shape[0] < k:\n",
      "        #Calculate the probability distribution based on weights\n",
      "        prob = weights/np.sum(weights)\n",
      "        #Select the next centroid using the probability distribution calculated\n",
      "        c = centers2[np.random.choice(range(centers2.shape[0]),1, p = prob.ravel()), :]\n",
      "        index = np.where(centers2==c)[0]\n",
      "        new_centers = np.vstack([new_centers, c])\n",
      "        #Remove the selected center and its corresponding weight\n",
      "        centers2 = np.delete(centers2,index[0],axis=0)\n",
      "        weights = np.delete(weights,index[0])\n",
      "        \n",
      "\n",
      "    #Implement kmeans clustering to obtain the new centers\n",
      "    new_centers2 = kmeans2(new_centers,centers,k)[2]\n",
      "    return new_centers2\n",
      " \n"
     ],
     "language": "python",
     "metadata": {},
     "outputs": [],
     "prompt_number": 158
    },
    {
     "cell_type": "code",
     "collapsed": false,
     "input": [
      "scalablekmeanspp(data,3,2)"
     ],
     "language": "python",
     "metadata": {},
     "outputs": [
      {
       "output_type": "stream",
       "stream": "stdout",
       "text": [
        "('Initial Centers:', array([[  0.1775,   1.9788],\n",
        "       [  7.4118,   9.0393],\n",
        "       [  8.7928,  11.942 ]]))\n",
        "('Required ', 3, ' iterations to converge.')\n"
       ]
      },
      {
       "metadata": {},
       "output_type": "pyout",
       "prompt_number": 159,
       "text": [
        "array([[ -0.0519,   0.6571],\n",
        "       [  5.5687,   6.6702],\n",
        "       [ 10.4709,  11.6617]])"
       ]
      }
     ],
     "prompt_number": 159
    },
    {
     "cell_type": "heading",
     "level": 3,
     "metadata": {},
     "source": [
      "Simulate Data"
     ]
    },
    {
     "cell_type": "code",
     "collapsed": false,
     "input": [
      "def generate_data(n):\n",
      "    mean0 = [0, 1]\n",
      "    cov0 = [[1, 0.5], [0.5, 1]]\n",
      "    data0 = np.random.multivariate_normal(mean0, cov0, n)\n",
      "    data0 = np.hstack((data0, np.ones((data0.shape[0],1))))\n",
      "\n",
      "    mean1 = [6, 7]\n",
      "    cov1 = [[1, 0.5], [0.5, 1]]\n",
      "    data1 = np.random.multivariate_normal(mean1, cov1, n)\n",
      "    data1 = np.hstack((data1, np.ones((data1.shape[0],1)) * 2))\n",
      "\n",
      "    mean2 = [11, 12]\n",
      "    cov2 = [[1, 0.5], [0.5, 1]]\n",
      "    data2 = np.random.multivariate_normal(mean2, cov2, n)\n",
      "    data2 = np.hstack((data2, np.ones((data2.shape[0],1)) * 3))\n",
      "\n",
      "    data = np.vstack((data0, data1, data2))\n",
      "    np.random.shuffle(data)\n",
      "    print (data.shape)\n",
      "    return data\n",
      "\n",
      "data=generate_data(1000)[:,0:2]"
     ],
     "language": "python",
     "metadata": {},
     "outputs": [
      {
       "output_type": "stream",
       "stream": "stdout",
       "text": [
        "(3000, 3)\n"
       ]
      }
     ],
     "prompt_number": 166
    },
    {
     "cell_type": "code",
     "collapsed": false,
     "input": [
      "data"
     ],
     "language": "python",
     "metadata": {},
     "outputs": [
      {
       "metadata": {},
       "output_type": "pyout",
       "prompt_number": 164,
       "text": [
        "array([[ -1.5566,   1.9516],\n",
        "       [ 10.161 ,  11.4825],\n",
        "       [  1.3156,  -0.253 ],\n",
        "       [  7.4281,   8.0376],\n",
        "       [  5.5215,   5.8239],\n",
        "       [  0.7618,   2.0232],\n",
        "       [ 10.6041,  11.4554],\n",
        "       [ -0.2093,   0.5985],\n",
        "       [  0.276 ,   1.9794],\n",
        "       [  6.3765,   7.9598],\n",
        "       [  5.8385,   5.5655],\n",
        "       [  6.3393,   5.8347],\n",
        "       [  5.4382,   8.5959],\n",
        "       [  5.7494,   7.1157],\n",
        "       [ 11.8285,  13.8456],\n",
        "       [ -1.0441,   0.0488],\n",
        "       [  0.6467,   1.276 ],\n",
        "       [ 11.3683,  12.3064],\n",
        "       [  6.1184,   5.7058],\n",
        "       [  9.7729,  12.2788],\n",
        "       [  8.5178,   8.8945],\n",
        "       [ -1.3157,   1.3862],\n",
        "       [  4.2832,   6.3231],\n",
        "       [ 11.0479,  11.4138],\n",
        "       [  0.6445,   2.1005],\n",
        "       [ 10.535 ,  12.1268],\n",
        "       [ 11.063 ,  12.0592],\n",
        "       [ 10.9688,  11.5209],\n",
        "       [ -1.3751,   0.3602],\n",
        "       [ 12.8062,  14.2863]])"
       ]
      }
     ],
     "prompt_number": 164
    },
    {
     "cell_type": "code",
     "collapsed": false,
     "input": [
      "start = time.time()\n",
      "kmeans1(kmeanspp1(data,3),data,3)\n",
      "elapsed = time.time()-start\n",
      "elapsed"
     ],
     "language": "python",
     "metadata": {},
     "outputs": [
      {
       "output_type": "stream",
       "stream": "stdout",
       "text": [
        "('Initial Centers:', array([[ -0.1339,   1.9502],\n",
        "       [ 10.4863,  13.026 ],\n",
        "       [  4.4597,   7.0141]]))\n",
        "('Required ', 4, ' iterations to converge.')"
       ]
      },
      {
       "output_type": "stream",
       "stream": "stdout",
       "text": [
        "\n"
       ]
      },
      {
       "metadata": {},
       "output_type": "pyout",
       "prompt_number": 177,
       "text": [
        "0.5205"
       ]
      }
     ],
     "prompt_number": 177
    },
    {
     "cell_type": "code",
     "collapsed": false,
     "input": [
      "start = time.time()\n",
      "kmeans2(scalablekmeanspp(data,3,2),data,3)\n",
      "elapsed = time.time()-start\n",
      "elapsed"
     ],
     "language": "python",
     "metadata": {},
     "outputs": [
      {
       "output_type": "stream",
       "stream": "stdout",
       "text": [
        "('Initial Centers:', array([[  4.4597,   7.0141],\n",
        "       [  7.0445,   7.3669],\n",
        "       [ 10.548 ,  13.0477]]))\n",
        "('Required ', 4, ' iterations to converge.')\n",
        "('Initial Centers:', array([[  0.2235,   1.7977],\n",
        "       [  5.4024,   6.9717],\n",
        "       [ 10.9556,  11.9245]]))\n",
        "('Required ', 3, ' iterations to converge.')\n"
       ]
      },
      {
       "metadata": {},
       "output_type": "pyout",
       "prompt_number": 180,
       "text": [
        "0.1317"
       ]
      }
     ],
     "prompt_number": 180
    },
    {
     "cell_type": "code",
     "collapsed": false,
     "input": [],
     "language": "python",
     "metadata": {},
     "outputs": []
    }
   ],
   "metadata": {}
  }
 ]
}