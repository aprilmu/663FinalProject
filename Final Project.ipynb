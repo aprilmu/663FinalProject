{
 "metadata": {
  "name": "",
  "signature": "sha256:b6e961c64a2a681579d45fa34f4e00aef06c875c8cefb8e3a5326f0d47d3e2dc"
 },
 "nbformat": 3,
 "nbformat_minor": 0,
 "worksheets": [
  {
   "cells": [
    {
     "cell_type": "heading",
     "level": 1,
     "metadata": {},
     "source": [
      "STA663 Final Project"
     ]
    },
    {
     "cell_type": "heading",
     "level": 2,
     "metadata": {},
     "source": [
      "Background"
     ]
    },
    {
     "cell_type": "markdown",
     "metadata": {},
     "source": [
      "- K-means clustering method remains the most popular clustering method and one of the top 10 algorithms in data mining. However, it is not a good clustering method in terms of efficiency or quality. Recent work has focused on improving the initialization procedure, which leads to k-means++ and kmeans|| algorithm.\n",
      "- Basic K-means clustering uses the Lloyd algorithm, which starts with k arbitrary centers and performs an EM-type local search till convergence. However, it is very sensitive to initialization and takes many iterations to converge.\n",
      "- K-means++ solves this problem by first choosing a center at random, and then sampling one point each iteration based on their probability distribution. It does spread out the centers pretty well, but it needs k passes over the data, which can be a problem when dataset is large.\n",
      "- K-means||, also called scalable K-means++, oversamples by sampling each point independently with a larger probability, which is intuitively equivalent to updating the distribution much less frequently. It turns out to be more efficient than K-means++."
     ]
    },
    {
     "cell_type": "heading",
     "level": 2,
     "metadata": {},
     "source": [
      "Algorithm"
     ]
    },
    {
     "cell_type": "code",
     "collapsed": false,
     "input": [
      "from __future__ import division\n",
      "import os\n",
      "import sys\n",
      "import glob\n",
      "import matplotlib.pyplot as plt\n",
      "import matplotlib.cm as cm\n",
      "import numpy as np\n",
      "import pandas as pd\n",
      "import time\n",
      "%matplotlib inline\n",
      "%precision 4\n",
      "plt.style.use('ggplot')"
     ],
     "language": "python",
     "metadata": {},
     "outputs": [],
     "prompt_number": 1
    },
    {
     "cell_type": "heading",
     "level": 3,
     "metadata": {},
     "source": [
      "K-means Algorithm (Simple)"
     ]
    },
    {
     "cell_type": "code",
     "collapsed": false,
     "input": [
      "def initialization(data,k):\n",
      "    \"\"\"Return the initial set of cluster centers.\"\"\"\n",
      "    \n",
      "    #Generate k random indices between 0 and the number of rows in the dataset\n",
      "    centers_index = np.random.choice(range(data.shape[0]), k, replace=False)\n",
      "    return data[centers_index, :]\n",
      "\n",
      "def kmeans1(centers,data,k):\n",
      "    \"\"\"Implement K-means clustering algorithm. Return converged cluster centers.\"\"\"\n",
      "\n",
      "    converge = False\n",
      "    phi = []\n",
      "    iterations = 0\n",
      "    while (not converge) and (iterations < 1000):\n",
      "        #Find out which cluster each data point is the closest to\n",
      "        min_dist = np.zeros(data.shape[0])\n",
      "        min_index = np.zeros(data.shape[0])\n",
      "        for i,p in enumerate(data):\n",
      "            result = minimum_distance(p,centers)\n",
      "            min_dist[i] = result[0]\n",
      "            min_index[i] = result[1]\n",
      "        #Calculate phi\n",
      "        phi_val = np.sum(min_dist)\n",
      "        phi.append(phi_val)\n",
      "\n",
      "        #Calculate the new centers\n",
      "        new_centers = np.empty(centers.shape)\n",
      "        for i in range(0, k):\n",
      "            if data[min_index == i,:].shape[0] == 0:\n",
      "                new_centers[i] = centers[i]\n",
      "            else:\n",
      "                new_centers[i] = np.mean(data[min_index == i, :], axis=0)\n",
      "\n",
      "        #Compare old centers with new centers to see if the algorithm has converged\n",
      "        if np.array_equal(centers, new_centers):\n",
      "            converge = True\n",
      "        else:\n",
      "            centers = new_centers\n",
      "\n",
      "        iterations += 1\n",
      "\n",
      "    return (iterations, phi, centers, min_index)\n",
      "\n",
      "\n",
      "def minimum_distance(p, centers):\n",
      "    \"\"\"Return the distance to the closest cluster center\"\"\"\n",
      "    \n",
      "    min_index = 0\n",
      "    min_dist = sys.float_info.max\n",
      "    for i, cc in enumerate(centers):\n",
      "        d = np.sum((p - cc) ** 2)\n",
      "        if min_dist > d:\n",
      "            min_dist = d \n",
      "            min_index = i\n",
      "    return (min_dist,min_index)"
     ],
     "language": "python",
     "metadata": {},
     "outputs": [],
     "prompt_number": 2
    },
    {
     "cell_type": "heading",
     "level": 3,
     "metadata": {},
     "source": [
      "K-means Algorithm (Vectorized)"
     ]
    },
    {
     "cell_type": "code",
     "collapsed": false,
     "input": [
      "def kmeans2(centers,data,k):\n",
      "    \"\"\"Implement K-means clustering algorithm. Return converged cluster centers.\"\"\"\n",
      "    \n",
      "    converge = False\n",
      "    phi = []\n",
      "    iterations = 0\n",
      "    while (not converge) and (iterations < 1000):\n",
      "        #Find the Euclidean distance between a center and a data point\n",
      "        data2 = data[:, np.newaxis, :]\n",
      "        d2 = (data2 - centers) ** 2\n",
      "        #Calculate the total distance to each center for each data point.\n",
      "        distance = np.sum(d2, axis=2)\n",
      "\n",
      "        #Find out which cluster each data point belongs to.\n",
      "        min_index = np.zeros(distance.shape)\n",
      "        min_index[range(distance.shape[0]), np.argmin(distance, axis=1)] = 1\n",
      "\n",
      "        #Calculate phi \n",
      "        phi_val = np.sum(distance[min_index == 1])\n",
      "        phi.append(phi_val)\n",
      "\n",
      "        #Calculate the new centers\n",
      "        new_centers = np.empty(centers.shape)\n",
      "        for i in range(0, k):\n",
      "            if data[min_index[:, i] == 1,:].shape[0] == 0:\n",
      "                new_centers[i] = centers[i]\n",
      "            else:\n",
      "                new_centers[i] = np.mean(data[min_index[:, i] == True, :], axis=0)\n",
      "\n",
      "        #Compare old centers with new centers to see if the algorithm has converged\n",
      "        if np.array_equal(centers, new_centers):\n",
      "            converge = True\n",
      "        else:\n",
      "            centers = new_centers\n",
      "\n",
      "        iterations += 1\n",
      "\n",
      "    return (iterations, phi, centers, min_index)"
     ],
     "language": "python",
     "metadata": {},
     "outputs": [],
     "prompt_number": 3
    },
    {
     "cell_type": "heading",
     "level": 3,
     "metadata": {},
     "source": [
      "K-means++ Algorithm (Simple)"
     ]
    },
    {
     "cell_type": "code",
     "collapsed": false,
     "input": [
      "def kmeanspp1(data, k):\n",
      "    \"\"\"Implement the K-means++ algorithm. Return k initial cluster centers.\"\"\"\n",
      "    #Sample a point uniformly at random from the data\n",
      "    centers = data[np.random.choice(range(data.shape[0]),1), :]\n",
      "\n",
      "    #Iterate k-1 times through the dataset to select the initial cluster centers\n",
      "    while centers.shape[0] < k:\n",
      "        min_dist = np.zeros(data.shape[0])\n",
      "        for i,p in enumerate(data):\n",
      "            min_dist[i] = minimum_distance(p,centers)[0]\n",
      "        #Calculate cost of the data\n",
      "        phi = np.sum(min_dist)\n",
      "        #Calculate the probability distribution\n",
      "        prob = min_dist/phi\n",
      "        #Select the next centroid using the probability distribution calculated\n",
      "        centers = np.vstack([centers, data[np.random.choice(range(data.shape[0]),1, p = prob), :]])\n",
      "    return centers"
     ],
     "language": "python",
     "metadata": {},
     "outputs": [],
     "prompt_number": 4
    },
    {
     "cell_type": "heading",
     "level": 3,
     "metadata": {},
     "source": [
      "K-means++ Algorithm (Vectorized)"
     ]
    },
    {
     "cell_type": "code",
     "collapsed": false,
     "input": [
      "def kmeanspp2(data, k):\n",
      "    \"\"\"Implement the K-means++ algorithm. Return k initial cluster centers.\"\"\"\n",
      "    #Sample a point uniformly ar random from the data\n",
      "    centers = data[np.random.choice(range(data.shape[0]),1), :]\n",
      "    data2 = data[:, np.newaxis, :]\n",
      "\n",
      "    #Iterate k-1 times through the dataset to select the initial cluster centers\n",
      "    while centers.shape[0] < k:\n",
      "        d2 = (data2 - centers) ** 2\n",
      "        distance = np.sum(d2, axis=2)\n",
      "        min_index = np.zeros(distance.shape)\n",
      "        min_index[range(distance.shape[0]), np.argmin(distance, axis=1)] = 1\n",
      "        min_dist=distance[min_index == 1]\n",
      "        phi = np.sum(min_dist)\n",
      "        #Calculate the probability distribution\n",
      "        prob = min_dist/phi\n",
      "        #Select the next centroid using the probability distribution calculated\n",
      "        centers = np.vstack([centers, data[np.random.choice(range(data.shape[0]),1, p = prob), :]])\n",
      "    return centers"
     ],
     "language": "python",
     "metadata": {},
     "outputs": [],
     "prompt_number": 5
    },
    {
     "cell_type": "heading",
     "level": 3,
     "metadata": {},
     "source": [
      "Scalable K-means++ Algorithm"
     ]
    },
    {
     "cell_type": "code",
     "collapsed": false,
     "input": [
      "def scalablekmeanspp(data,k,l):\n",
      "    \"\"\"Implement the K-means++ algorithm. Return k initial cluster centers.\"\"\"\n",
      "    #Sample a point uniformly at random from the data\n",
      "    centers = data[np.random.choice(range(data.shape[0]),1), :]\n",
      "    data2 = data[:, np.newaxis, :]\n",
      "    min_dist = np.zeros(data.shape[0])\n",
      "    for i,p in enumerate(data):\n",
      "        min_dist[i] = minimum_distance(p,centers)[0]\n",
      "    phi = np.sum(min_dist)\n",
      "    \n",
      "    for i in range(int(round(np.log(phi)))):\n",
      "        d2 = (data2 - centers) ** 2\n",
      "        distance = np.sum(d2, axis=2)\n",
      "        min_index = np.zeros(distance.shape)\n",
      "        min_index[range(distance.shape[0]), np.argmin(distance, axis=1)] = 1\n",
      "        min_dist=distance[min_index == 1]\n",
      "        phi = np.sum(min_dist)\n",
      "        for j,p in enumerate(data):\n",
      "            prob = l*min_dist[j]/phi\n",
      "            u=np.random.uniform(0,1)\n",
      "            if prob >= u:\n",
      "                centers = np.vstack([centers, p])\n",
      "    #Now we have an initial set of cluster centers that is greater than k\n",
      "    #Find number of points in dataset closer to each center than any other centers\n",
      "    d2 = (data2 - centers) ** 2\n",
      "    distance = np.sum(d2, axis=2)\n",
      "    min_index = np.zeros(distance.shape)\n",
      "    min_index[range(distance.shape[0]), np.argmin(distance, axis=1)] = 1\n",
      "    weights = np.array([np.count_nonzero(min_index[:, j]) for j in range(centers.shape[0])]).reshape(-1,1)\n",
      "    #Recluster the weighted points into k clusters using kmeans++\n",
      "    new_centers = centers[np.random.choice(range(centers.shape[0]),1), :]\n",
      "    centers2 = centers\n",
      "    index = np.where(centers2==new_centers)[0]\n",
      "    centers2 = np.delete(centers2,index[0],axis=0)\n",
      "    weights = np.delete(weights,index[0])\n",
      "    while new_centers.shape[0] < k:\n",
      "        #Calculate the probability distribution based on weights\n",
      "        prob = weights/np.sum(weights)\n",
      "        #Select the next centroid using the probability distribution calculated\n",
      "        c = centers2[np.random.choice(range(centers2.shape[0]),1, p = prob.ravel()), :]\n",
      "        index = np.where(centers2==c)[0]\n",
      "        new_centers = np.vstack([new_centers, c])\n",
      "        #Remove the selected center and its corresponding weight\n",
      "        centers2 = np.delete(centers2,index[0],axis=0)\n",
      "        weights = np.delete(weights,index[0])\n",
      "        \n",
      "\n",
      "    #Implement kmeans clustering to obtain the new centers\n",
      "    new_centers2 = kmeans2(new_centers,centers,k)[2]\n",
      "    return new_centers2\n",
      " \n"
     ],
     "language": "python",
     "metadata": {},
     "outputs": [],
     "prompt_number": 6
    },
    {
     "cell_type": "heading",
     "level": 2,
     "metadata": {},
     "source": [
      "Simulate Data"
     ]
    },
    {
     "cell_type": "code",
     "collapsed": false,
     "input": [
      "def generate_data(n):\n",
      "    \"\"\"Return mixed data with cluster labels.\"\"\"\n",
      "    mean0 = [0, 1]\n",
      "    cov0 = [[1, 0.5], [0.5, 1]]\n",
      "    data0 = np.random.multivariate_normal(mean0, cov0, n)\n",
      "    data0 = np.hstack((data0, np.ones((data0.shape[0],1))))\n",
      "\n",
      "    mean1 = [6, 7]\n",
      "    cov1 = [[1, 0.5], [0.5, 1]]\n",
      "    data1 = np.random.multivariate_normal(mean1, cov1, n)\n",
      "    data1 = np.hstack((data1, np.ones((data1.shape[0],1)) * 2))\n",
      "\n",
      "    mean2 = [11, 12]\n",
      "    cov2 = [[1, 0.5], [0.5, 1]]\n",
      "    data2 = np.random.multivariate_normal(mean2, cov2, n)\n",
      "    data2 = np.hstack((data2, np.ones((data2.shape[0],1)) * 3))\n",
      "\n",
      "    data = np.vstack((data0, data1, data2))\n",
      "    np.random.shuffle(data)\n",
      "    print (data.shape)\n",
      "    return data\n",
      "\n",
      "data1=generate_data(1000)[:,0:2]"
     ],
     "language": "python",
     "metadata": {},
     "outputs": [
      {
       "output_type": "stream",
       "stream": "stdout",
       "text": [
        "(3000, 3)\n"
       ]
      }
     ],
     "prompt_number": 7
    },
    {
     "cell_type": "code",
     "collapsed": false,
     "input": [
      "def generate_data(n):\n",
      "    \"\"\"Return mixed data with cluster labels.\"\"\"\n",
      "    mean0 = [0, 1]\n",
      "    cov0 = [[1, 0.5], [0.5, 1]]\n",
      "    data0 = np.random.multivariate_normal(mean0, cov0, n)\n",
      "    data0 = np.hstack((data0, np.ones((data0.shape[0],1))))\n",
      "\n",
      "    mean1 = [5, 6]\n",
      "    cov1 = [[1, 0.5], [0.5, 1]]\n",
      "    data1 = np.random.multivariate_normal(mean1, cov1, n)\n",
      "    data1 = np.hstack((data1, np.ones((data1.shape[0],1)) * 2))\n",
      "\n",
      "    mean2 = [10, 11]\n",
      "    cov2 = [[1, 0.5], [0.5, 1]]\n",
      "    data2 = np.random.multivariate_normal(mean2, cov2, n)\n",
      "    data2 = np.hstack((data2, np.ones((data2.shape[0],1)) * 3))\n",
      "    \n",
      "    mean3 = [15, 16]\n",
      "    cov3 = [[1, 0.5], [0.5, 1]]\n",
      "    data3 = np.random.multivariate_normal(mean2, cov2, n)\n",
      "    data3 = np.hstack((data3, np.ones((data3.shape[0],1)) * 4))\n",
      "    \n",
      "    mean4 = [20, 21]\n",
      "    cov4 = [[1, 0.5], [0.5, 1]]\n",
      "    data4 = np.random.multivariate_normal(mean2, cov2, n)\n",
      "    data4 = np.hstack((data4, np.ones((data4.shape[0],1)) * 5))\n",
      "\n",
      "    data = np.vstack((data0, data1, data2, data3, data4))\n",
      "    np.random.shuffle(data)\n",
      "    print (data.shape)\n",
      "    return data\n",
      "\n",
      "data2=generate_data(5000)[:,0:2]"
     ],
     "language": "python",
     "metadata": {},
     "outputs": [
      {
       "output_type": "stream",
       "stream": "stdout",
       "text": [
        "(25000, 3)\n"
       ]
      }
     ],
     "prompt_number": 22
    },
    {
     "cell_type": "code",
     "collapsed": false,
     "input": [
      "start = time.time()\n",
      "kmeans1(kmeanspp1(data,3),data,3)\n",
      "elapsed = time.time()-start\n",
      "elapsed"
     ],
     "language": "python",
     "metadata": {},
     "outputs": [
      {
       "output_type": "stream",
       "stream": "stdout",
       "text": [
        "('Initial Centers:', array([[  6.2584,   7.3978],\n",
        "       [ 10.4097,  10.9114],\n",
        "       [  0.2252,   0.7784]]))\n",
        "('Required ', 4, ' iterations to converge.')"
       ]
      },
      {
       "output_type": "stream",
       "stream": "stdout",
       "text": [
        "\n"
       ]
      },
      {
       "metadata": {},
       "output_type": "pyout",
       "prompt_number": 198,
       "text": [
        "5.3649"
       ]
      }
     ],
     "prompt_number": 198
    },
    {
     "cell_type": "code",
     "collapsed": false,
     "input": [
      "start = time.time()\n",
      "kmeans2(scalablekmeanspp(data,3,2),data,3)\n",
      "elapsed = time.time()-start\n",
      "elapsed"
     ],
     "language": "python",
     "metadata": {},
     "outputs": [
      {
       "output_type": "stream",
       "stream": "stdout",
       "text": [
        "('Initial Centers:', array([[ -0.8246,  -0.3025],\n",
        "       [ -2.0409,   0.7461],\n",
        "       [ 12.1916,  11.6816]]))\n",
        "('Required ', 8, ' iterations to converge.')\n",
        "('Initial Centers:', array([[  6.3558e+00,   7.1829e+00],\n",
        "       [  1.1738e-04,   9.2784e-01],\n",
        "       [  1.1423e+01,   1.2495e+01]]))\n",
        "('Required ', 3, ' iterations to converge.')\n"
       ]
      },
      {
       "metadata": {},
       "output_type": "pyout",
       "prompt_number": 200,
       "text": [
        "1.5188"
       ]
      }
     ],
     "prompt_number": 200
    },
    {
     "cell_type": "code",
     "collapsed": false,
     "input": [
      "import multiprocessing\n",
      "\n",
      "num_procs = multiprocessing.cpu_count()\n",
      "num_procs"
     ],
     "language": "python",
     "metadata": {},
     "outputs": [
      {
       "metadata": {},
       "output_type": "pyout",
       "prompt_number": 208,
       "text": [
        "2"
       ]
      }
     ],
     "prompt_number": 208
    },
    {
     "cell_type": "heading",
     "level": 2,
     "metadata": {},
     "source": [
      "Test"
     ]
    },
    {
     "cell_type": "code",
     "collapsed": false,
     "input": [
      "k=3\n",
      "result = kmeans2(initialization(data1,k),data1,k)\n",
      "centers = result[2]\n",
      "min_index = result[3]\n",
      "#Plot clusters\n",
      "cols=iter(['b','g','y'])\n",
      "for i in range (k):\n",
      "    plt.scatter(data1[min_index[:,i] == 1, :][:,0], data1[min_index[:,i] == 1, :][:,1], color=next(cols))\n",
      "plt.scatter(centers[:,0], centers[:,1], color='r', marker='x')"
     ],
     "language": "python",
     "metadata": {},
     "outputs": [
      {
       "output_type": "stream",
       "stream": "stdout",
       "text": [
        "('Initial Centers:', array([[ 8.2972,  8.0749],\n",
        "       [ 6.5101,  6.9435],\n",
        "       [-1.2449, -0.4135]]))\n",
        "('Required ', 4, ' iterations to converge.')\n"
       ]
      },
      {
       "metadata": {},
       "output_type": "pyout",
       "prompt_number": 229,
       "text": [
        "<matplotlib.collections.PathCollection at 0x7fe759310e10>"
       ]
      },
      {
       "metadata": {},
       "output_type": "display_data",
       "png": "[encoded data removed]",
       "text": [
        "<matplotlib.figure.Figure at 0x7fe759bcdd90>"
       ]
      }
     ],
     "prompt_number": 229
    },
    {
     "cell_type": "code",
     "collapsed": false,
     "input": [
      "result = kmeans2(kmeanspp2(data1,k),data1,k)\n",
      "centers = result[2]\n",
      "min_index = result[3]\n",
      "#Plot clusters\n",
      "cols=iter(['b','g','y'])\n",
      "for i in range (k):\n",
      "    plt.scatter(data1[min_index[:,i] == 1, :][:,0], data1[min_index[:,i] == 1, :][:,1], color=next(cols))\n",
      "plt.scatter(centers[:,0], centers[:,1], color='r', marker='x')"
     ],
     "language": "python",
     "metadata": {},
     "outputs": [
      {
       "output_type": "stream",
       "stream": "stdout",
       "text": [
        "('Initial Centers:', array([[ 10.4522,  14.5413],\n",
        "       [  1.6204,   2.3635],\n",
        "       [ 11.7767,  10.5528]]))\n",
        "('Required ', 6, ' iterations to converge.')\n"
       ]
      },
      {
       "metadata": {},
       "output_type": "pyout",
       "prompt_number": 230,
       "text": [
        "<matplotlib.collections.PathCollection at 0x7fe7592a2e50>"
       ]
      },
      {
       "metadata": {},
       "output_type": "display_data",
       "png": "[encoded data removed]",
       "text": [
        "<matplotlib.figure.Figure at 0x7fe7593a5a10>"
       ]
      }
     ],
     "prompt_number": 230
    },
    {
     "cell_type": "code",
     "collapsed": false,
     "input": [
      "result = kmeans2(scalablekmeanspp(data1,k,2),data1,k)\n",
      "centers = result[2]\n",
      "min_index = result[3]\n",
      "#Plot clusters\n",
      "cols=iter(['b','g','y'])\n",
      "for i in range (k):\n",
      "    plt.scatter(data1[min_index[:,i] == 1, :][:,0], data1[min_index[:,i] == 1, :][:,1], color=next(cols))\n",
      "plt.scatter(centers[:,0], centers[:,1], color='r', marker='x')"
     ],
     "language": "python",
     "metadata": {},
     "outputs": [
      {
       "output_type": "stream",
       "stream": "stdout",
       "text": [
        "('Initial Centers:', array([[ 12.5395,  12.3895],\n",
        "       [ 10.388 ,  12.0946],\n",
        "       [  6.6019,   7.9372]]))\n",
        "('Required ', 7, ' iterations to converge.')\n",
        "('Initial Centers:', array([[ 11.1654,  12.1567],\n",
        "       [  5.877 ,   6.9726],\n",
        "       [  0.4497,   1.459 ]]))\n",
        "('Required ', 3, ' iterations to converge.')\n"
       ]
      },
      {
       "metadata": {},
       "output_type": "pyout",
       "prompt_number": 232,
       "text": [
        "<matplotlib.collections.PathCollection at 0x7fe75923bf90>"
       ]
      },
      {
       "metadata": {},
       "output_type": "display_data",
       "png": "[encoded data removed]",
       "text": [
        "<matplotlib.figure.Figure at 0x7fe759aa1b10>"
       ]
      }
     ],
     "prompt_number": 232
    },
    {
     "cell_type": "heading",
     "level": 2,
     "metadata": {},
     "source": [
      "Comparison of Algorithms"
     ]
    },
    {
     "cell_type": "code",
     "collapsed": false,
     "input": [
      "np.random.seed(200)\n",
      "result = kmeans2(initialization(data1,3),data1,3)\n",
      "#Print number of iterations till convergence\n",
      "print result[0]\n",
      "#Print the clustering cost after initialization\n",
      "print result[1][0]"
     ],
     "language": "python",
     "metadata": {},
     "outputs": [
      {
       "output_type": "stream",
       "stream": "stdout",
       "text": [
        "7\n",
        "46372.4191656\n"
       ]
      }
     ],
     "prompt_number": 53
    },
    {
     "cell_type": "code",
     "collapsed": false,
     "input": [
      "np.random.seed(200)\n",
      "result = kmeans2(kmeanspp2(data1,3),data1,3)\n",
      "print result[0]\n",
      "print result[1][0]"
     ],
     "language": "python",
     "metadata": {},
     "outputs": [
      {
       "output_type": "stream",
       "stream": "stdout",
       "text": [
        "4\n",
        "13765.1574859\n"
       ]
      }
     ],
     "prompt_number": 55
    },
    {
     "cell_type": "code",
     "collapsed": false,
     "input": [
      "np.random.seed(200)\n",
      "result = kmeans2(scalablekmeanspp(data1,3,1.5),data1,3)\n",
      "print result[0]\n",
      "print result[1][0]"
     ],
     "language": "python",
     "metadata": {},
     "outputs": [
      {
       "output_type": "stream",
       "stream": "stdout",
       "text": [
        "3\n",
        "6396.64504607\n"
       ]
      }
     ],
     "prompt_number": 54
    },
    {
     "cell_type": "code",
     "collapsed": false,
     "input": [
      "np.random.seed(140)\n",
      "result = kmeans2(initialization(data2,5),data2,5)\n",
      "print result[0]\n",
      "print result[1][0]"
     ],
     "language": "python",
     "metadata": {},
     "outputs": [
      {
       "output_type": "stream",
       "stream": "stdout",
       "text": [
        "36\n",
        "179399.609486\n"
       ]
      }
     ],
     "prompt_number": 66
    },
    {
     "cell_type": "code",
     "collapsed": false,
     "input": [
      "np.random.seed(140)\n",
      "result = kmeans2(kmeanspp2(data2,5),data2,5)\n",
      "print result[0]\n",
      "print result[1][0]"
     ],
     "language": "python",
     "metadata": {},
     "outputs": [
      {
       "output_type": "stream",
       "stream": "stdout",
       "text": [
        "27\n",
        "81570.8032694\n"
       ]
      }
     ],
     "prompt_number": 65
    },
    {
     "cell_type": "code",
     "collapsed": false,
     "input": [
      "np.random.seed(140)\n",
      "result = kmeans2(scalablekmeanspp(data2,5,2.5),data2,5)\n",
      "print result[0]\n",
      "print result[1][0]"
     ],
     "language": "python",
     "metadata": {},
     "outputs": [
      {
       "output_type": "stream",
       "stream": "stdout",
       "text": [
        "14\n",
        "34903.9182741\n"
       ]
      }
     ],
     "prompt_number": 64
    },
    {
     "cell_type": "markdown",
     "metadata": {},
     "source": [
      "Based on the results above, we can see that K-means++ reduces number of Lloyd iterations by a great amount, and scalable K-means++ does that even more than K-means++, especially when the dataset is bigger and has more clusters. The efficiency of scalable K-means++ can also be reflected in the initial clustering cost. The smaller the initial clustering cost is, the better the intial centroids are, meaning that they are closer to the actual cluster centers. The initial clustering cost of scalable K-means++ is significantly lower than the other two algorithms."
     ]
    },
    {
     "cell_type": "heading",
     "level": 2,
     "metadata": {},
     "source": [
      "Code Efficiency"
     ]
    },
    {
     "cell_type": "code",
     "collapsed": false,
     "input": [
      "! pip install --pre line-profiler &> /dev/null\n",
      "! pip install psutil &> /dev/null\n",
      "! pip install memory_profiler &> /dev/null"
     ],
     "language": "python",
     "metadata": {},
     "outputs": [],
     "prompt_number": 67
    },
    {
     "cell_type": "code",
     "collapsed": false,
     "input": [
      "%load_ext line_profiler"
     ],
     "language": "python",
     "metadata": {},
     "outputs": [],
     "prompt_number": 68
    },
    {
     "cell_type": "code",
     "collapsed": false,
     "input": [
      "%lprun -f kmeans1 kmeans1(kmeanspp1(data1,3),data1,3)"
     ],
     "language": "python",
     "metadata": {},
     "outputs": [],
     "prompt_number": 69
    },
    {
     "cell_type": "code",
     "collapsed": false,
     "input": [
      "Timer unit: 1e-06 s\n",
      "\n",
      "Total time: 0.417552 s\n",
      "File: <ipython-input-2-eb941895ad31>\n",
      "Function: kmeans1 at line 8\n",
      "\n",
      "Line #      Hits         Time  Per Hit   % Time  Line Contents\n",
      "==============================================================\n",
      "     8                                           def kmeans1(centers,data,k):\n",
      "     9                                               \"\"\"Implement K-means clustering algorithm. Return converged cluster centers.\"\"\"\n",
      "    10                                           \n",
      "    11         1            2      2.0      0.0      converge = False\n",
      "    12         1            2      2.0      0.0      phi = []\n",
      "    13         1            0      0.0      0.0      iterations = 0\n",
      "    14         4           11      2.8      0.0      while (not converge) and (iterations < 1000):\n",
      "    15                                                   #Find out which cluster each data point is the closest to\n",
      "    16         3           30     10.0      0.0          min_dist = np.zeros(data.shape[0])\n",
      "    17         3           10      3.3      0.0          min_index = np.zeros(data.shape[0])\n",
      "    18      9003        10552      1.2      2.5          for i,p in enumerate(data):\n",
      "    19      9000       381187     42.4     91.3              result = minimum_distance(p,centers)\n",
      "    20      9000        14599      1.6      3.5              min_dist[i] = result[0]\n",
      "    21      9000         9386      1.0      2.2              min_index[i] = result[1]\n",
      "    22                                                   #Calculate phi\n",
      "    23         3           40     13.3      0.0          phi_val = np.sum(min_dist)\n",
      "    24         3            7      2.3      0.0          phi.append(phi_val)\n",
      "    25                                           \n",
      "    26                                                   #Calculate the new centers\n",
      "    27         3           15      5.0      0.0          new_centers = np.empty(centers.shape)\n",
      "    28        12           32      2.7      0.0          for i in range(0, k):\n",
      "    29         9          514     57.1      0.1              if data[min_index == i,:].shape[0] == 0:\n",
      "    30                                                           new_centers[i] = centers[i]\n",
      "    31                                                       else:\n",
      "    32         9         1051    116.8      0.3                  new_centers[i] = np.mean(data[min_index == i, :], axis=0)\n",
      "    33                                           \n",
      "    34                                                   #Compare old centers with new centers to see if the algorithm has converged\n",
      "    35         3          109     36.3      0.0          if np.array_equal(centers, new_centers):\n",
      "    36         1            1      1.0      0.0              converge = True\n",
      "    37                                                   else:\n",
      "    38         2            1      0.5      0.0              centers = new_centers\n",
      "    39                                           \n",
      "    40         3            3      1.0      0.0          iterations += 1\n",
      "    41                                           \n",
      "    42         1            0      0.0      0.0      return (iterations, phi, centers, min_index)"
     ],
     "language": "python",
     "metadata": {},
     "outputs": []
    }
   ],
   "metadata": {}
  }
 ]
}