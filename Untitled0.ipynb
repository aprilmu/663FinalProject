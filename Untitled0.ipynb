{
 "metadata": {
  "name": "",
  "signature": "sha256:8dcc0109996250a799c3f354239f2a0f39e872affdefd890733cbeb61808b500"
 },
 "nbformat": 3,
 "nbformat_minor": 0,
 "worksheets": [
  {
   "cells": [
    {
     "cell_type": "code",
     "collapsed": false,
     "input": [
      "! git commit -m \"pseudocode/outline of algorithm\""
     ],
     "language": "python",
     "metadata": {},
     "outputs": [
      {
       "output_type": "stream",
       "stream": "stdout",
       "text": [
        "[master 0bd257c] pseudocode/outline of algorithm\r\n",
        " Committer: Bitnami <bitnami@ubuntu14-generic-template-01.oit.duke.edu>\r\n",
        "Your name and email address were configured automatically based\r\n",
        "on your username and hostname. Please check that they are accurate.\r\n",
        "You can suppress this message by setting them explicitly:\r\n",
        "\r\n",
        "    git config --global user.name \"Your Name\"\r\n",
        "    git config --global user.email you@example.com\r\n",
        "\r\n",
        "After doing this, you may fix the identity used for this commit with:\r\n",
        "\r\n",
        "    git commit --amend --reset-author\r\n",
        "\r\n",
        " 3 files changed, 90 insertions(+)\r\n",
        " create mode 100644 .ipynb_checkpoints/Pseudocode-checkpoint.ipynb\r\n",
        " create mode 100644 Pseudocode.ipynb\r\n",
        " create mode 100644 Untitled0.ipynb\r\n"
       ]
      }
     ],
     "prompt_number": 2
    },
    {
     "cell_type": "code",
     "collapsed": false,
     "input": [
      "ipython nbconvert --to latex Yue_Mu_Final_Project.ipynb"
     ],
     "language": "python",
     "metadata": {},
     "outputs": []
    }
   ],
   "metadata": {}
  }
 ]
}