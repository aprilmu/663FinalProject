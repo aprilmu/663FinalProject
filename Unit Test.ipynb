{
 "metadata": {
  "name": "",
  "signature": "sha256:24879999a5d4b7c0736f040d532f6c9c2f2556d282906689a11799db4f63be48"
 },
 "nbformat": 3,
 "nbformat_minor": 0,
 "worksheets": [
  {
   "cells": [
    {
     "cell_type": "heading",
     "level": 2,
     "metadata": {},
     "source": [
      "Unit Test Draft"
     ]
    },
    {
     "cell_type": "markdown",
     "metadata": {},
     "source": [
      "- To verify the correctness of my code, I can first simulate using some code such as: data = np.random.randn(100000,2). \n",
      "- And then apply the three algorithms to the data: basic kmeans, kmeans++ and kmeans||. \n",
      "- I can compare the results by plotting the data, representing each cluster with different colors."
     ]
    },
    {
     "cell_type": "code",
     "collapsed": false,
     "input": [],
     "language": "python",
     "metadata": {},
     "outputs": []
    }
   ],
   "metadata": {}
  }
 ]
}