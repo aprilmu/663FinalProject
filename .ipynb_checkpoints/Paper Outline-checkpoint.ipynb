{
 "metadata": {
  "name": "",
  "signature": "sha256:5820154b100ac7f094676a86bcf20c9236912506c58d0915d2730ace75bbd31a"
 },
 "nbformat": 3,
 "nbformat_minor": 0,
 "worksheets": [
  {
   "cells": [
    {
     "cell_type": "heading",
     "level": 1,
     "metadata": {},
     "source": [
      "Final Project: Scalable K-Means++"
     ]
    },
    {
     "cell_type": "heading",
     "level": 2,
     "metadata": {},
     "source": [
      "Paper Outline"
     ]
    },
    {
     "cell_type": "heading",
     "level": 3,
     "metadata": {},
     "source": [
      "1. Introduction"
     ]
    },
    {
     "cell_type": "markdown",
     "metadata": {},
     "source": [
      "- K-means method remains the most popular clustering method and one of the top 10 algorithms in data mining.\n",
      "- However, it is not a good clustering method in terms of efficiency or quality.\n",
      "- Recent work has focused on improving the initialization procedure, which leads to k-means++ algorithm.\n",
      "- In this paper, the authors obtain a parallel version of the k-means++ initialization algorithm, which they call k-means||, and empirically demonstrate its practical effectiveness."
     ]
    },
    {
     "cell_type": "heading",
     "level": 3,
     "metadata": {},
     "source": [
      "2. Related Work"
     ]
    },
    {
     "cell_type": "markdown",
     "metadata": {},
     "source": [
      "- Clustering problems have been frequent and important objects of study for the past many years by researchers. This section only discusses the highlights directly relevant to the author's work.\n",
      "- The authors will use MapReduce to demonstrate the effectiveness of their parallel algorithm, but the algorithm can be implemented in a variety of parallel computational models."
     ]
    },
    {
     "cell_type": "heading",
     "level": 3,
     "metadata": {},
     "source": [
      "3. The Algorithm"
     ]
    },
    {
     "cell_type": "markdown",
     "metadata": {},
     "source": [
      "- Notation and background with pseudo-code for k-means++ initialization\n",
      "- Intuition behind the algorithm\n",
      "- K-means|| initialization algorithm with pseudo-code\n",
      "- Analysis on why this algorithm works\n",
      "- Parallel implementation of k-means|| in the MapReduce model of computation"
     ]
    },
    {
     "cell_type": "heading",
     "level": 3,
     "metadata": {},
     "source": [
      "4. Experimental Setup"
     ]
    },
    {
     "cell_type": "markdown",
     "metadata": {},
     "source": [
      "- Datasets used to evaluate the performance of k-means||\n",
      "- Compare the performance of k-means|| initialization against k-means++ initialization, Random and Partition"
     ]
    },
    {
     "cell_type": "heading",
     "level": 3,
     "metadata": {},
     "source": [
      "5. Experimental Results"
     ]
    },
    {
     "cell_type": "markdown",
     "metadata": {},
     "source": [
      "- Clustering cost of k-means||, compared against the baseline approaches\n",
      "- Use running time to show that k-means|| is faster than Random and Partition when implemented to run in parallel\n",
      "- Trading-off quality with running time"
     ]
    },
    {
     "cell_type": "heading",
     "level": 3,
     "metadata": {},
     "source": [
      "6. Analysis"
     ]
    },
    {
     "cell_type": "markdown",
     "metadata": {},
     "source": [
      "- Full analysis of the algorithm, which shows that in each round of the algorithm there is a significant drop in cost of the current solution"
     ]
    },
    {
     "cell_type": "heading",
     "level": 3,
     "metadata": {},
     "source": [
      "7. Conclusions"
     ]
    }
   ],
   "metadata": {}
  }
 ]
}